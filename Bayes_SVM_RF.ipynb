{
  "nbformat": 4,
  "nbformat_minor": 0,
  "metadata": {
    "colab": {
      "provenance": []
    },
    "kernelspec": {
      "name": "python3",
      "display_name": "Python 3"
    },
    "language_info": {
      "name": "python"
    }
  },
  "cells": [
    {
      "cell_type": "code",
      "execution_count": 2,
      "metadata": {
        "colab": {
          "base_uri": "https://localhost:8080/",
          "height": 0
        },
        "id": "TtRhUNq9IBkX",
        "outputId": "2457c73a-937b-46da-9d78-274a2c97c4f9"
      },
      "outputs": [
        {
          "output_type": "stream",
          "name": "stdout",
          "text": [
            "Collecting biopython\n",
            "  Downloading biopython-1.84-cp310-cp310-manylinux_2_17_x86_64.manylinux2014_x86_64.whl.metadata (12 kB)\n",
            "Requirement already satisfied: scikit-learn in /usr/local/lib/python3.10/dist-packages (1.5.2)\n",
            "Requirement already satisfied: imbalanced-learn in /usr/local/lib/python3.10/dist-packages (0.12.4)\n",
            "Requirement already satisfied: numpy in /usr/local/lib/python3.10/dist-packages (from biopython) (1.26.4)\n",
            "Requirement already satisfied: scipy>=1.6.0 in /usr/local/lib/python3.10/dist-packages (from scikit-learn) (1.13.1)\n",
            "Requirement already satisfied: joblib>=1.2.0 in /usr/local/lib/python3.10/dist-packages (from scikit-learn) (1.4.2)\n",
            "Requirement already satisfied: threadpoolctl>=3.1.0 in /usr/local/lib/python3.10/dist-packages (from scikit-learn) (3.5.0)\n",
            "Downloading biopython-1.84-cp310-cp310-manylinux_2_17_x86_64.manylinux2014_x86_64.whl (3.2 MB)\n",
            "\u001b[2K   \u001b[90m━━━━━━━━━━━━━━━━━━━━━━━━━━━━━━━━━━━━━━━━\u001b[0m \u001b[32m3.2/3.2 MB\u001b[0m \u001b[31m20.1 MB/s\u001b[0m eta \u001b[36m0:00:00\u001b[0m\n",
            "\u001b[?25hInstalling collected packages: biopython\n",
            "Successfully installed biopython-1.84\n"
          ]
        }
      ],
      "source": [
        "# Instalar pacotes necessários\n",
        "!pip install biopython scikit-learn imbalanced-learn\n",
        "from Bio import SeqIO\n",
        "import numpy as np\n",
        "from sklearn.model_selection import train_test_split, GridSearchCV\n",
        "from sklearn.feature_extraction.text import TfidfVectorizer\n",
        "from sklearn.naive_bayes import MultinomialNB\n",
        "from sklearn.svm import SVC\n",
        "from sklearn.ensemble import RandomForestClassifier\n",
        "from sklearn.metrics import classification_report"
      ]
    },
    {
      "cell_type": "code",
      "source": [
        "# Ler o arquivo de treino\n",
        "train_sequences = list(SeqIO.parse(\"modified_perfect_transposons.fasta\", \"fasta\"))\n",
        "train_data = [str(seq.seq) for seq in train_sequences]\n",
        "train_labels = [seq.id for seq in train_sequences]\n",
        "\n",
        "# Vetorização das sequências usando TF-IDF\n",
        "vectorizer = TfidfVectorizer(analyzer='char', ngram_range=(1, 4))\n",
        "X_train = vectorizer.fit_transform(train_data)\n",
        "\n",
        "# Dividir os dados de treino em treino e validação\n",
        "X_train_split, X_val, y_train, y_val = train_test_split(X_train, train_labels, test_size=0.2, random_state=42)\n",
        "\n",
        "# Definição de modelos para teste\n",
        "models = {\n",
        "    'Naive Bayes': MultinomialNB(),\n",
        "    'SVM': SVC(kernel='rbf', probability=True),\n",
        "    'Random Forest': RandomForestClassifier(n_estimators=100)\n",
        "}"
      ],
      "metadata": {
        "id": "hONAaMFUIGFt"
      },
      "execution_count": 4,
      "outputs": []
    },
    {
      "cell_type": "code",
      "source": [
        "# Testar cada modelo\n",
        "for name, model in models.items():\n",
        "    # Treinar o modelo\n",
        "    model.fit(X_train_split, y_train)\n",
        "\n",
        "    # Avaliar o modelo\n",
        "    y_pred = model.predict(X_val)\n",
        "    print(f\"\\nModelo: {name}\")\n",
        "    print(classification_report(y_val, y_pred))\n",
        "\n",
        "# Exemplo de tuning de hiperparâmetros para SVM\n",
        "param_grid = {'C': [0.1, 1, 10], 'gamma': [0.01, 0.1, 1], 'kernel': ['rbf', 'poly']}\n",
        "grid = GridSearchCV(SVC(probability=True), param_grid, refit=True, verbose=3)\n",
        "grid.fit(X_train_split, y_train)\n",
        "\n",
        "# Avaliar o melhor modelo encontrado\n",
        "y_pred = grid.predict(X_val)\n",
        "print(\"\\nmodelo SVM após tuning:\")\n",
        "print(classification_report(y_val, y_pred))"
      ],
      "metadata": {
        "colab": {
          "base_uri": "https://localhost:8080/",
          "height": 0
        },
        "id": "KFVa5_54INyt",
        "outputId": "0061b20d-c5c4-4645-c455-f92eb15987c7"
      },
      "execution_count": 6,
      "outputs": [
        {
          "output_type": "stream",
          "name": "stdout",
          "text": [
            "\n",
            "Modelo: Naive Bayes\n",
            "                 precision    recall  f1-score   support\n",
            "\n",
            " DNA-transposon       0.92      0.26      0.40       172\n",
            "Retrotransposon       0.58      0.98      0.73       182\n",
            "\n",
            "       accuracy                           0.63       354\n",
            "      macro avg       0.75      0.62      0.56       354\n",
            "   weighted avg       0.74      0.63      0.57       354\n",
            "\n",
            "\n",
            "Modelo: SVM\n",
            "                 precision    recall  f1-score   support\n",
            "\n",
            " DNA-transposon       0.85      0.62      0.72       172\n",
            "Retrotransposon       0.71      0.90      0.80       182\n",
            "\n",
            "       accuracy                           0.76       354\n",
            "      macro avg       0.78      0.76      0.76       354\n",
            "   weighted avg       0.78      0.76      0.76       354\n",
            "\n",
            "\n",
            "Modelo: Random Forest\n",
            "                 precision    recall  f1-score   support\n",
            "\n",
            " DNA-transposon       0.88      0.89      0.88       172\n",
            "Retrotransposon       0.89      0.88      0.89       182\n",
            "\n",
            "       accuracy                           0.89       354\n",
            "      macro avg       0.89      0.89      0.89       354\n",
            "   weighted avg       0.89      0.89      0.89       354\n",
            "\n",
            "Fitting 5 folds for each of 18 candidates, totalling 90 fits\n",
            "[CV 1/5] END .....C=0.1, gamma=0.01, kernel=rbf;, score=0.537 total time=   9.9s\n",
            "[CV 2/5] END .....C=0.1, gamma=0.01, kernel=rbf;, score=0.537 total time=   7.9s\n",
            "[CV 3/5] END .....C=0.1, gamma=0.01, kernel=rbf;, score=0.537 total time=  12.8s\n",
            "[CV 4/5] END .....C=0.1, gamma=0.01, kernel=rbf;, score=0.537 total time=   7.4s\n",
            "[CV 5/5] END .....C=0.1, gamma=0.01, kernel=rbf;, score=0.537 total time=   6.5s\n",
            "[CV 1/5] END ....C=0.1, gamma=0.01, kernel=poly;, score=0.537 total time=   6.8s\n",
            "[CV 2/5] END ....C=0.1, gamma=0.01, kernel=poly;, score=0.537 total time=   6.0s\n",
            "[CV 3/5] END ....C=0.1, gamma=0.01, kernel=poly;, score=0.537 total time=   7.9s\n",
            "[CV 4/5] END ....C=0.1, gamma=0.01, kernel=poly;, score=0.537 total time=   5.9s\n",
            "[CV 5/5] END ....C=0.1, gamma=0.01, kernel=poly;, score=0.537 total time=   6.7s\n",
            "[CV 1/5] END ......C=0.1, gamma=0.1, kernel=rbf;, score=0.537 total time=   6.6s\n",
            "[CV 2/5] END ......C=0.1, gamma=0.1, kernel=rbf;, score=0.537 total time=   7.4s\n",
            "[CV 3/5] END ......C=0.1, gamma=0.1, kernel=rbf;, score=0.537 total time=   6.6s\n",
            "[CV 4/5] END ......C=0.1, gamma=0.1, kernel=rbf;, score=0.537 total time=   7.4s\n",
            "[CV 5/5] END ......C=0.1, gamma=0.1, kernel=rbf;, score=0.537 total time=   6.5s\n",
            "[CV 1/5] END .....C=0.1, gamma=0.1, kernel=poly;, score=0.537 total time=   6.6s\n",
            "[CV 2/5] END .....C=0.1, gamma=0.1, kernel=poly;, score=0.537 total time=   6.2s\n",
            "[CV 3/5] END .....C=0.1, gamma=0.1, kernel=poly;, score=0.537 total time=   6.5s\n",
            "[CV 4/5] END .....C=0.1, gamma=0.1, kernel=poly;, score=0.537 total time=   6.4s\n",
            "[CV 5/5] END .....C=0.1, gamma=0.1, kernel=poly;, score=0.537 total time=   6.2s\n",
            "[CV 1/5] END ........C=0.1, gamma=1, kernel=rbf;, score=0.654 total time=   6.9s\n",
            "[CV 2/5] END ........C=0.1, gamma=1, kernel=rbf;, score=0.714 total time=   6.3s\n",
            "[CV 3/5] END ........C=0.1, gamma=1, kernel=rbf;, score=0.717 total time=   7.3s\n",
            "[CV 4/5] END ........C=0.1, gamma=1, kernel=rbf;, score=0.717 total time=   6.1s\n",
            "[CV 5/5] END ........C=0.1, gamma=1, kernel=rbf;, score=0.668 total time=   7.2s\n",
            "[CV 1/5] END .......C=0.1, gamma=1, kernel=poly;, score=0.668 total time=   5.5s\n",
            "[CV 2/5] END .......C=0.1, gamma=1, kernel=poly;, score=0.724 total time=   6.5s\n",
            "[CV 3/5] END .......C=0.1, gamma=1, kernel=poly;, score=0.728 total time=   5.7s\n",
            "[CV 4/5] END .......C=0.1, gamma=1, kernel=poly;, score=0.721 total time=   6.3s\n",
            "[CV 5/5] END .......C=0.1, gamma=1, kernel=poly;, score=0.686 total time=   5.7s\n",
            "[CV 1/5] END .......C=1, gamma=0.01, kernel=rbf;, score=0.537 total time=   7.1s\n",
            "[CV 2/5] END .......C=1, gamma=0.01, kernel=rbf;, score=0.537 total time=   6.9s\n",
            "[CV 3/5] END .......C=1, gamma=0.01, kernel=rbf;, score=0.537 total time=   7.3s\n",
            "[CV 4/5] END .......C=1, gamma=0.01, kernel=rbf;, score=0.537 total time=   6.7s\n",
            "[CV 5/5] END .......C=1, gamma=0.01, kernel=rbf;, score=0.537 total time=   7.3s\n",
            "[CV 1/5] END ......C=1, gamma=0.01, kernel=poly;, score=0.537 total time=   7.6s\n",
            "[CV 2/5] END ......C=1, gamma=0.01, kernel=poly;, score=0.537 total time=   7.4s\n",
            "[CV 3/5] END ......C=1, gamma=0.01, kernel=poly;, score=0.537 total time=   6.0s\n",
            "[CV 4/5] END ......C=1, gamma=0.01, kernel=poly;, score=0.537 total time=   6.6s\n",
            "[CV 5/5] END ......C=1, gamma=0.01, kernel=poly;, score=0.537 total time=   6.1s\n",
            "[CV 1/5] END ........C=1, gamma=0.1, kernel=rbf;, score=0.668 total time=   6.6s\n",
            "[CV 2/5] END ........C=1, gamma=0.1, kernel=rbf;, score=0.717 total time=   6.7s\n",
            "[CV 3/5] END ........C=1, gamma=0.1, kernel=rbf;, score=0.731 total time=   6.7s\n",
            "[CV 4/5] END ........C=1, gamma=0.1, kernel=rbf;, score=0.714 total time=   6.6s\n",
            "[CV 5/5] END ........C=1, gamma=0.1, kernel=rbf;, score=0.682 total time=   6.4s\n",
            "[CV 1/5] END .......C=1, gamma=0.1, kernel=poly;, score=0.537 total time=   6.7s\n",
            "[CV 2/5] END .......C=1, gamma=0.1, kernel=poly;, score=0.537 total time=   7.1s\n",
            "[CV 3/5] END .......C=1, gamma=0.1, kernel=poly;, score=0.537 total time=   6.7s\n",
            "[CV 4/5] END .......C=1, gamma=0.1, kernel=poly;, score=0.537 total time=   6.0s\n",
            "[CV 5/5] END .......C=1, gamma=0.1, kernel=poly;, score=0.537 total time=   6.9s\n",
            "[CV 1/5] END ..........C=1, gamma=1, kernel=rbf;, score=0.714 total time=   4.8s\n",
            "[CV 2/5] END ..........C=1, gamma=1, kernel=rbf;, score=0.760 total time=   5.9s\n",
            "[CV 3/5] END ..........C=1, gamma=1, kernel=rbf;, score=0.774 total time=   5.1s\n",
            "[CV 4/5] END ..........C=1, gamma=1, kernel=rbf;, score=0.760 total time=   4.9s\n",
            "[CV 5/5] END ..........C=1, gamma=1, kernel=rbf;, score=0.753 total time=   5.9s\n",
            "[CV 1/5] END .........C=1, gamma=1, kernel=poly;, score=0.735 total time=   4.3s\n",
            "[CV 2/5] END .........C=1, gamma=1, kernel=poly;, score=0.774 total time=   4.7s\n",
            "[CV 3/5] END .........C=1, gamma=1, kernel=poly;, score=0.777 total time=   5.2s\n",
            "[CV 4/5] END .........C=1, gamma=1, kernel=poly;, score=0.781 total time=   4.4s\n",
            "[CV 5/5] END .........C=1, gamma=1, kernel=poly;, score=0.763 total time=   4.8s\n",
            "[CV 1/5] END ......C=10, gamma=0.01, kernel=rbf;, score=0.668 total time=   6.5s\n",
            "[CV 2/5] END ......C=10, gamma=0.01, kernel=rbf;, score=0.724 total time=   6.6s\n",
            "[CV 3/5] END ......C=10, gamma=0.01, kernel=rbf;, score=0.731 total time=   6.8s\n",
            "[CV 4/5] END ......C=10, gamma=0.01, kernel=rbf;, score=0.714 total time=   6.4s\n",
            "[CV 5/5] END ......C=10, gamma=0.01, kernel=rbf;, score=0.686 total time=   6.9s\n",
            "[CV 1/5] END .....C=10, gamma=0.01, kernel=poly;, score=0.537 total time=   5.9s\n",
            "[CV 2/5] END .....C=10, gamma=0.01, kernel=poly;, score=0.537 total time=   6.8s\n",
            "[CV 3/5] END .....C=10, gamma=0.01, kernel=poly;, score=0.537 total time=   6.0s\n",
            "[CV 4/5] END .....C=10, gamma=0.01, kernel=poly;, score=0.537 total time=   6.7s\n",
            "[CV 5/5] END .....C=10, gamma=0.01, kernel=poly;, score=0.537 total time=   6.0s\n",
            "[CV 1/5] END .......C=10, gamma=0.1, kernel=rbf;, score=0.721 total time=   5.8s\n",
            "[CV 2/5] END .......C=10, gamma=0.1, kernel=rbf;, score=0.760 total time=   6.2s\n",
            "[CV 3/5] END .......C=10, gamma=0.1, kernel=rbf;, score=0.763 total time=   6.2s\n",
            "[CV 4/5] END .......C=10, gamma=0.1, kernel=rbf;, score=0.749 total time=   5.3s\n",
            "[CV 5/5] END .......C=10, gamma=0.1, kernel=rbf;, score=0.746 total time=   4.9s\n",
            "[CV 1/5] END ......C=10, gamma=0.1, kernel=poly;, score=0.537 total time=   6.9s\n",
            "[CV 2/5] END ......C=10, gamma=0.1, kernel=poly;, score=0.537 total time=   6.1s\n",
            "[CV 3/5] END ......C=10, gamma=0.1, kernel=poly;, score=0.537 total time=   7.0s\n",
            "[CV 4/5] END ......C=10, gamma=0.1, kernel=poly;, score=0.537 total time=   6.0s\n",
            "[CV 5/5] END ......C=10, gamma=0.1, kernel=poly;, score=0.537 total time=   6.9s\n",
            "[CV 1/5] END .........C=10, gamma=1, kernel=rbf;, score=0.876 total time=   3.8s\n",
            "[CV 2/5] END .........C=10, gamma=1, kernel=rbf;, score=0.848 total time=   3.9s\n",
            "[CV 3/5] END .........C=10, gamma=1, kernel=rbf;, score=0.837 total time=   4.7s\n",
            "[CV 4/5] END .........C=10, gamma=1, kernel=rbf;, score=0.848 total time=   4.1s\n",
            "[CV 5/5] END .........C=10, gamma=1, kernel=rbf;, score=0.862 total time=   3.8s\n",
            "[CV 1/5] END ........C=10, gamma=1, kernel=poly;, score=0.887 total time=   3.4s\n",
            "[CV 2/5] END ........C=10, gamma=1, kernel=poly;, score=0.890 total time=   4.3s\n",
            "[CV 3/5] END ........C=10, gamma=1, kernel=poly;, score=0.845 total time=   3.8s\n",
            "[CV 4/5] END ........C=10, gamma=1, kernel=poly;, score=0.869 total time=   3.9s\n",
            "[CV 5/5] END ........C=10, gamma=1, kernel=poly;, score=0.890 total time=   4.0s\n",
            "\n",
            "Melhor modelo SVM após tuning:\n",
            "                 precision    recall  f1-score   support\n",
            "\n",
            " DNA-transposon       0.87      0.84      0.85       172\n",
            "Retrotransposon       0.85      0.88      0.86       182\n",
            "\n",
            "       accuracy                           0.86       354\n",
            "      macro avg       0.86      0.86      0.86       354\n",
            "   weighted avg       0.86      0.86      0.86       354\n",
            "\n"
          ]
        }
      ]
    },
    {
      "cell_type": "code",
      "source": [
        "# Prever as classes para o conjunto de teste utilizando SVM\n",
        "test_sequences = list(SeqIO.parse(\"reduced.fa\", \"fasta\"))\n",
        "test_data = [str(seq.seq) for seq in test_sequences]\n",
        "test_ids = [seq.id for seq in test_sequences]\n",
        "X_test = vectorizer.transform(test_data)\n",
        "\n",
        "predictions = grid.predict(X_test)\n",
        "results = dict(zip(test_ids, predictions))\n",
        "\n",
        "# Exibir as previsões\n",
        "#for seq_id, prediction in results.items():\n",
        "#    print(f\"ID: {seq_id}, Predição: {prediction}\")\n",
        "# Salvar as previsões em um arquivo\n",
        "with open('PrevisionsSvmTun.txt', 'w') as f:\n",
        "    for seq_id, prediction in results.items():\n",
        "        f.write(f\"{seq_id}\\t{prediction}\\n\")\n",
        "\n",
        "# Baixar via navegador o arquivo de resultados\n",
        "#from google.colab import files\n",
        "#files.download('PrevisionsSvmTun.txt')"
      ],
      "metadata": {
        "id": "J-4gYFo9MBBw"
      },
      "execution_count": 23,
      "outputs": []
    },
    {
      "cell_type": "code",
      "source": [
        "# predições com Randon Forest\n",
        "predictions = models['Random Forest'].predict(X_test)\n",
        "# Exibir as previsões\n",
        "#for seq_id, prediction in results.items():\n",
        "#    print(f\"ID: {seq_id}, Predição: {prediction}\")\n",
        "\n",
        "# Salvar as previsões em um arquivo\n",
        "with open('previsionsRF.txt', 'w') as f:\n",
        "    for seq_id, prediction in results.items():\n",
        "        f.write(f\"{seq_id}\\t{prediction}\\n\")\n",
        "\n",
        "# Baixar via navegador o arquivo de resultados\n",
        "#from google.colab import files\n",
        "#files.download('previsionsRF.txt')\n"
      ],
      "metadata": {
        "colab": {
          "base_uri": "https://localhost:8080/",
          "height": 17
        },
        "id": "7QPkfwWnVfce",
        "outputId": "ae17bb5a-4f17-4cc2-8f50-b82aabc212b1"
      },
      "execution_count": 24,
      "outputs": [
        {
          "output_type": "display_data",
          "data": {
            "text/plain": [
              "<IPython.core.display.Javascript object>"
            ],
            "application/javascript": [
              "\n",
              "    async function download(id, filename, size) {\n",
              "      if (!google.colab.kernel.accessAllowed) {\n",
              "        return;\n",
              "      }\n",
              "      const div = document.createElement('div');\n",
              "      const label = document.createElement('label');\n",
              "      label.textContent = `Downloading \"${filename}\": `;\n",
              "      div.appendChild(label);\n",
              "      const progress = document.createElement('progress');\n",
              "      progress.max = size;\n",
              "      div.appendChild(progress);\n",
              "      document.body.appendChild(div);\n",
              "\n",
              "      const buffers = [];\n",
              "      let downloaded = 0;\n",
              "\n",
              "      const channel = await google.colab.kernel.comms.open(id);\n",
              "      // Send a message to notify the kernel that we're ready.\n",
              "      channel.send({})\n",
              "\n",
              "      for await (const message of channel.messages) {\n",
              "        // Send a message to notify the kernel that we're ready.\n",
              "        channel.send({})\n",
              "        if (message.buffers) {\n",
              "          for (const buffer of message.buffers) {\n",
              "            buffers.push(buffer);\n",
              "            downloaded += buffer.byteLength;\n",
              "            progress.value = downloaded;\n",
              "          }\n",
              "        }\n",
              "      }\n",
              "      const blob = new Blob(buffers, {type: 'application/binary'});\n",
              "      const a = document.createElement('a');\n",
              "      a.href = window.URL.createObjectURL(blob);\n",
              "      a.download = filename;\n",
              "      div.appendChild(a);\n",
              "      a.click();\n",
              "      div.remove();\n",
              "    }\n",
              "  "
            ]
          },
          "metadata": {}
        },
        {
          "output_type": "display_data",
          "data": {
            "text/plain": [
              "<IPython.core.display.Javascript object>"
            ],
            "application/javascript": [
              "download(\"download_a9a9724d-8be4-472f-93e3-89075b37fe02\", \"previsionsRF.txt\", 9576)"
            ]
          },
          "metadata": {}
        }
      ]
    },
    {
      "cell_type": "code",
      "source": [
        "## compara as predições com SVM e Randon forest\n",
        "import pandas as pd\n",
        "from sklearn.metrics import accuracy_score, classification_report\n",
        "# Carregar as previsões do Random Forest\n",
        "with open('previsionsRF.txt', 'r') as f:\n",
        "    rf_predictions = {line.split('\\t')[0]: line.split('\\t')[1].strip() for line in f}\n",
        "\n",
        "# Carregar as previsões do SVM otimizado\n",
        "with open('PrevisionsSvmTun.txt', 'r') as f:\n",
        "    svm_predictions = {line.split('\\t')[0]: line.split('\\t')[1].strip() for line in f}\n",
        "\n",
        "# Verificar se as chaves (IDs) dos dicionários são iguais\n",
        "assert set(rf_predictions.keys()) == set(svm_predictions.keys()), \"Os IDs das previsões não coincidem\"\n",
        "\n",
        "# Criar um DataFrame para comparar as previsões\n",
        "df_comparison = pd.DataFrame({\n",
        "    'ID': list(rf_predictions.keys()),\n",
        "    'RandomForest': list(rf_predictions.values()),\n",
        "    'SVMTuned': list(svm_predictions.values())\n",
        "})\n",
        "\n",
        "# Calcular a acurácia entre as previsões dos dois modelos\n",
        "accuracy = accuracy_score(list(rf_predictions.values()), list(svm_predictions.values()))\n",
        "print(f\"Acurácia entre as previsões de Random Forest e SVM otimizado: {accuracy}\")\n",
        "\n",
        "# Mostrar um relatório de classificação para comparar as previsões\n",
        "print(\"\\nRelatório de Classificação:\")\n",
        "print(classification_report(list(rf_predictions.values()), list(svm_predictions.values())))\n",
        "\n",
        "# Exibir as previsões onde os modelos discordam\n",
        "disagreement = df_comparison[df_comparison['RandomForest'] != df_comparison['SVMTuned']]\n",
        "print(\"\\nPrevisões onde os modelos discordam:\")\n",
        "print(disagreement)\n",
        "\n",
        "# Exibir a contagem de concordâncias e discordâncias\n",
        "print(f\"\\nTotal de previsões: {len(df_comparison)}\")\n",
        "print(f\"Previsões concordantes: {len(df_comparison) - len(disagreement)}\")\n",
        "print(f\"Previsões discordantes: {len(disagreement)}\")"
      ],
      "metadata": {
        "colab": {
          "base_uri": "https://localhost:8080/"
        },
        "id": "U4VdrE9-VoBy",
        "outputId": "732bb4a2-4667-489a-dd20-6f725a4cffd1"
      },
      "execution_count": 21,
      "outputs": [
        {
          "output_type": "stream",
          "name": "stdout",
          "text": [
            "Acurácia entre as previsões de Random Forest e SVM otimizado: 1.0\n",
            "\n",
            "Relatório de Classificação:\n",
            "                 precision    recall  f1-score   support\n",
            "\n",
            " DNA-transposon       1.00      1.00      1.00        37\n",
            "Retrotransposon       1.00      1.00      1.00       190\n",
            "\n",
            "       accuracy                           1.00       227\n",
            "      macro avg       1.00      1.00      1.00       227\n",
            "   weighted avg       1.00      1.00      1.00       227\n",
            "\n",
            "\n",
            "Previsões onde os modelos discordam:\n",
            "Empty DataFrame\n",
            "Columns: [ID, RandomForest, SVMTuned]\n",
            "Index: []\n",
            "\n",
            "Total de previsões: 227\n",
            "Previsões concordantes: 227\n",
            "Previsões discordantes: 0\n"
          ]
        }
      ]
    },
    {
      "cell_type": "code",
      "source": [],
      "metadata": {
        "id": "cvqP_6Q5ZQQ6"
      },
      "execution_count": null,
      "outputs": []
    }
  ]
}