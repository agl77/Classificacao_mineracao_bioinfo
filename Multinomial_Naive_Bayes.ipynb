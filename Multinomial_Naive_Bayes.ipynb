{
  "nbformat": 4,
  "nbformat_minor": 0,
  "metadata": {
    "colab": {
      "provenance": []
    },
    "kernelspec": {
      "name": "python3",
      "display_name": "Python 3"
    },
    "language_info": {
      "name": "python"
    }
  },
  "cells": [
    {
      "cell_type": "code",
      "source": [
        "!pip install biopython\n",
        "from Bio import SeqIO\n",
        "import numpy as np\n",
        "from sklearn.model_selection import train_test_split\n",
        "from sklearn.feature_extraction.text import CountVectorizer\n",
        "from sklearn.naive_bayes import MultinomialNB\n",
        "from sklearn.metrics import classification_report"
      ],
      "metadata": {
        "colab": {
          "base_uri": "https://localhost:8080/"
        },
        "id": "zcsRBDjkx_mm",
        "outputId": "5dcd7ab3-81b8-483c-dde3-848aa534cc7e"
      },
      "execution_count": null,
      "outputs": [
        {
          "output_type": "stream",
          "name": "stdout",
          "text": [
            "Requirement already satisfied: biopython in /usr/local/lib/python3.10/dist-packages (1.84)\n",
            "Requirement already satisfied: numpy in /usr/local/lib/python3.10/dist-packages (from biopython) (1.26.4)\n"
          ]
        }
      ]
    },
    {
      "cell_type": "code",
      "execution_count": null,
      "metadata": {
        "id": "8XHoJOZ591Jy",
        "colab": {
          "base_uri": "https://localhost:8080/"
        },
        "outputId": "f2b9da7f-5913-440f-9da1-e238879d8795"
      },
      "outputs": [
        {
          "output_type": "stream",
          "name": "stdout",
          "text": [
            "Total de sequências de treino: 1769, Total de rótulos: 1769\n"
          ]
        }
      ],
      "source": [
        "# Ler o arquivo de treino\n",
        "train_sequences = list(SeqIO.parse(\"modified_perfect_transposons.fasta\", \"fasta\"))\n",
        "train_data = [str(seq.seq) for seq in train_sequences]\n",
        "train_labels = [seq.id for seq in train_sequences]\n",
        "# Verificar o tamanho dos dados lidos\n",
        "print(f\"Total de sequências de treino: {len(train_data)}, Total de rótulos: {len(train_labels)}\")\n"
      ]
    },
    {
      "cell_type": "code",
      "source": [
        "# Vetorização das sequências\n",
        "vectorizer = CountVectorizer(analyzer='char', ngram_range=(1, 3))\n",
        "X_train = vectorizer.fit_transform(train_data)"
      ],
      "metadata": {
        "id": "XF5oNfe8dg4L"
      },
      "execution_count": null,
      "outputs": []
    },
    {
      "cell_type": "code",
      "source": [
        "# Ler o arquivo para classificação\n",
        "test_sequences = list(SeqIO.parse(\"reduced.fa\", \"fasta\"))\n",
        "test_data = [str(seq.seq) for seq in test_sequences]\n",
        "test_ids = [seq.id for seq in test_sequences]\n",
        "\n",
        "\n"
      ],
      "metadata": {
        "id": "RzbhE63FAGPZ"
      },
      "execution_count": 15,
      "outputs": []
    },
    {
      "cell_type": "code",
      "source": [
        "# Dividir os dados de treino em treino e validação\n",
        "X_train_split, X_val, y_train, y_val = train_test_split(X_train, train_labels, test_size=0.2, random_state=42)\n",
        "\n",
        "# Treinar o modelo\n",
        "model = MultinomialNB()\n",
        "model.fit(X_train_split, y_train)\n",
        "\n",
        "# Avaliar o modelo\n",
        "y_pred = model.predict(X_val)\n",
        "print(classification_report(y_val, y_pred))"
      ],
      "metadata": {
        "id": "35J3MHWQAJIl",
        "colab": {
          "base_uri": "https://localhost:8080/"
        },
        "outputId": "2122a604-aaec-48fe-b3db-9a4573fce507"
      },
      "execution_count": 16,
      "outputs": [
        {
          "output_type": "stream",
          "name": "stdout",
          "text": [
            "                 precision    recall  f1-score   support\n",
            "\n",
            " DNA-transposon       0.60      0.76      0.67       172\n",
            "Retrotransposon       0.70      0.53      0.60       182\n",
            "\n",
            "       accuracy                           0.64       354\n",
            "      macro avg       0.65      0.64      0.64       354\n",
            "   weighted avg       0.65      0.64      0.64       354\n",
            "\n"
          ]
        }
      ]
    },
    {
      "cell_type": "code",
      "source": [
        "# Prever as classes para o conjunto de teste\n",
        "predictions = model.predict(X_test)\n",
        "\n",
        "# Criar um dicionário com as previsões\n",
        "results = dict(zip(test_ids, predictions))\n",
        "\n",
        "# Exibir as previsões\n",
        "for seq_id, prediction in results.items():\n",
        "    print(f\"ID: {seq_id}, Predição: {prediction}\")"
      ],
      "metadata": {
        "colab": {
          "base_uri": "https://localhost:8080/"
        },
        "id": "xJR6o8X5Y5vh",
        "outputId": "9647a21e-d7e4-45e2-e6c8-eeecdd3b2a9a"
      },
      "execution_count": 17,
      "outputs": [
        {
          "output_type": "stream",
          "name": "stdout",
          "text": [
            "ID: ltr-1_family-1#LTR/Gypsy, Predição: DNA-transposon\n",
            "ID: ltr-1_family-2#LTR/Gypsy, Predição: Retrotransposon\n",
            "ID: ltr-1_family-11#LTR/Unknown, Predição: DNA-transposon\n",
            "ID: ltr-1_family-12#LTR/Unknown, Predição: DNA-transposon\n",
            "ID: ltr-1_family-13#LTR/Pao, Predição: DNA-transposon\n",
            "ID: ltr-1_family-15#LTR/Unknown, Predição: DNA-transposon\n",
            "ID: ltr-1_family-16#LTR/Gypsy, Predição: DNA-transposon\n",
            "ID: ltr-1_family-17#LTR/Unknown, Predição: DNA-transposon\n",
            "ID: ltr-1_family-18#LTR/Unknown, Predição: DNA-transposon\n",
            "ID: ltr-1_family-19#LTR/Unknown, Predição: DNA-transposon\n",
            "ID: ltr-1_family-20#LTR/Pao, Predição: DNA-transposon\n",
            "ID: ltr-1_family-3#LTR/Unknown, Predição: DNA-transposon\n",
            "ID: ltr-1_family-21#LTR/Unknown, Predição: DNA-transposon\n",
            "ID: ltr-1_family-22#LTR/Gypsy, Predição: DNA-transposon\n",
            "ID: ltr-1_family-23#LTR/Unknown, Predição: DNA-transposon\n",
            "ID: ltr-1_family-24#LTR/Gypsy, Predição: DNA-transposon\n",
            "ID: ltr-1_family-26#LTR/Gypsy, Predição: Retrotransposon\n",
            "ID: ltr-1_family-27#LTR/Unknown, Predição: Retrotransposon\n",
            "ID: ltr-1_family-28#LTR/Gypsy, Predição: DNA-transposon\n",
            "ID: ltr-1_family-29#LTR/Unknown, Predição: DNA-transposon\n",
            "ID: ltr-1_family-30#LTR/Gypsy, Predição: Retrotransposon\n",
            "ID: ltr-1_family-4#LTR/Gypsy, Predição: Retrotransposon\n",
            "ID: ltr-1_family-31#LTR/Unknown, Predição: DNA-transposon\n",
            "ID: ltr-1_family-32#LTR/Gypsy, Predição: DNA-transposon\n",
            "ID: ltr-1_family-33#LTR/Unknown, Predição: DNA-transposon\n",
            "ID: ltr-1_family-34#LTR/Pao, Predição: DNA-transposon\n",
            "ID: ltr-1_family-35#LTR/Unknown, Predição: DNA-transposon\n",
            "ID: ltr-1_family-36#LTR/Unknown, Predição: DNA-transposon\n",
            "ID: ltr-1_family-38#LTR/Gypsy, Predição: DNA-transposon\n",
            "ID: ltr-1_family-39#LTR/Unknown, Predição: DNA-transposon\n",
            "ID: ltr-1_family-40#LTR/Unknown, Predição: DNA-transposon\n",
            "ID: ltr-1_family-5#LTR/Unknown, Predição: DNA-transposon\n",
            "ID: ltr-1_family-41#LTR/Unknown, Predição: DNA-transposon\n",
            "ID: ltr-1_family-42#LTR/Unknown, Predição: DNA-transposon\n",
            "ID: ltr-1_family-43#LTR/Gypsy, Predição: Retrotransposon\n",
            "ID: ltr-1_family-44#LTR/Unknown, Predição: DNA-transposon\n",
            "ID: ltr-1_family-45#LTR/Gypsy, Predição: DNA-transposon\n",
            "ID: ltr-1_family-46#LTR/Gypsy, Predição: Retrotransposon\n",
            "ID: ltr-1_family-48#LTR/Unknown, Predição: DNA-transposon\n",
            "ID: ltr-1_family-6#LTR/Gypsy, Predição: DNA-transposon\n",
            "ID: ltr-1_family-8#LTR/Gypsy, Predição: Retrotransposon\n",
            "ID: ltr-1_family-10#LTR/Gypsy, Predição: Retrotransposon\n",
            "ID: rnd-1_family-149#Unknown, Predição: Retrotransposon\n",
            "ID: rnd-1_family-170#LINE/CR1, Predição: Retrotransposon\n",
            "ID: rnd-1_family-5#LINE/Penelope, Predição: DNA-transposon\n",
            "ID: rnd-1_family-54#Unknown, Predição: Retrotransposon\n",
            "ID: rnd-1_family-60#Unknown, Predição: DNA-transposon\n",
            "ID: rnd-1_family-27#LINE/RTE-BovB, Predição: Retrotransposon\n",
            "ID: rnd-1_family-141#LINE/RTE-BovB, Predição: Retrotransposon\n",
            "ID: rnd-1_family-167#Unknown, Predição: DNA-transposon\n",
            "ID: rnd-1_family-180#Unknown, Predição: DNA-transposon\n",
            "ID: rnd-1_family-184#LINE/Penelope, Predição: DNA-transposon\n",
            "ID: rnd-1_family-176#Unknown, Predição: Retrotransposon\n",
            "ID: rnd-1_family-175#Unknown, Predição: Retrotransposon\n",
            "ID: rnd-1_family-168#Unknown, Predição: Retrotransposon\n",
            "ID: rnd-1_family-197#Unknown, Predição: DNA-transposon\n",
            "ID: rnd-1_family-101#Unknown, Predição: Retrotransposon\n",
            "ID: rnd-1_family-190#Unknown, Predição: Retrotransposon\n",
            "ID: rnd-1_family-100#LINE/CR1, Predição: Retrotransposon\n",
            "ID: rnd-1_family-109#Unknown, Predição: DNA-transposon\n",
            "ID: rnd-1_family-129#Unknown, Predição: DNA-transposon\n",
            "ID: rnd-1_family-169#LTR/Gypsy, Predição: Retrotransposon\n",
            "ID: rnd-1_family-41#LTR/Gypsy, Predição: Retrotransposon\n",
            "ID: rnd-1_family-81#LINE/Penelope, Predição: Retrotransposon\n",
            "ID: rnd-1_family-193#LINE/Penelope, Predição: Retrotransposon\n",
            "ID: rnd-1_family-2#Unknown, Predição: Retrotransposon\n",
            "ID: rnd-1_family-128#LINE/CR1, Predição: DNA-transposon\n",
            "ID: rnd-1_family-136#LINE/RTE-BovB, Predição: Retrotransposon\n",
            "ID: rnd-1_family-116#Unknown, Predição: Retrotransposon\n",
            "ID: rnd-1_family-9#Unknown, Predição: Retrotransposon\n",
            "ID: rnd-1_family-131#LINE/CR1, Predição: DNA-transposon\n",
            "ID: rnd-1_family-83#Unknown, Predição: DNA-transposon\n",
            "ID: rnd-1_family-120#LINE/L2, Predição: DNA-transposon\n",
            "ID: rnd-1_family-77#Unknown, Predição: DNA-transposon\n",
            "ID: rnd-1_family-44#Unknown, Predição: Retrotransposon\n",
            "ID: rnd-1_family-196#Unknown, Predição: Retrotransposon\n",
            "ID: rnd-1_family-4#tRNA, Predição: Retrotransposon\n",
            "ID: rnd-1_family-3#Unknown, Predição: DNA-transposon\n",
            "ID: rnd-1_family-70#LINE/RTE-BovB, Predição: DNA-transposon\n",
            "ID: rnd-1_family-102#LINE/CR1, Predição: Retrotransposon\n",
            "ID: rnd-1_family-84#Unknown, Predição: DNA-transposon\n",
            "ID: rnd-1_family-137#Unknown, Predição: DNA-transposon\n",
            "ID: rnd-1_family-160#Unknown, Predição: Retrotransposon\n",
            "ID: rnd-1_family-108#DNA/Merlin, Predição: DNA-transposon\n",
            "ID: rnd-1_family-98#Unknown, Predição: DNA-transposon\n",
            "ID: rnd-1_family-139#LINE/Penelope, Predição: DNA-transposon\n",
            "ID: rnd-1_family-7#LINE/RTE-BovB, Predição: Retrotransposon\n",
            "ID: rnd-1_family-76#Unknown, Predição: Retrotransposon\n",
            "ID: rnd-1_family-104#Unknown, Predição: DNA-transposon\n",
            "ID: rnd-1_family-50#LINE/RTE-BovB, Predição: Retrotransposon\n",
            "ID: rnd-1_family-164#Unknown, Predição: DNA-transposon\n",
            "ID: rnd-1_family-162#LINE/CR1, Predição: Retrotransposon\n",
            "ID: rnd-1_family-127#Unknown, Predição: Retrotransposon\n",
            "ID: rnd-1_family-20#Unknown, Predição: Retrotransposon\n",
            "ID: rnd-1_family-34#LINE/RTE-BovB, Predição: DNA-transposon\n",
            "ID: rnd-1_family-112#Unknown, Predição: Retrotransposon\n",
            "ID: rnd-1_family-178#LINE/CR1, Predição: Retrotransposon\n",
            "ID: rnd-1_family-121#LINE/RTE-BovB, Predição: Retrotransposon\n",
            "ID: rnd-1_family-103#LINE/RTE-BovB, Predição: DNA-transposon\n",
            "ID: rnd-1_family-123#Unknown, Predição: Retrotransposon\n",
            "ID: rnd-1_family-191#Unknown, Predição: DNA-transposon\n",
            "ID: rnd-1_family-118#Unknown, Predição: Retrotransposon\n",
            "ID: rnd-1_family-138#LINE/Penelope, Predição: Retrotransposon\n",
            "ID: rnd-1_family-13#Unknown, Predição: DNA-transposon\n",
            "ID: rnd-1_family-158#LTR/Gypsy, Predição: Retrotransposon\n",
            "ID: rnd-1_family-0#LINE/RTE-BovB, Predição: DNA-transposon\n",
            "ID: rnd-1_family-133#LTR/Gypsy, Predição: Retrotransposon\n",
            "ID: rnd-1_family-183#LINE/Penelope, Predição: Retrotransposon\n",
            "ID: rnd-1_family-38#Unknown, Predição: Retrotransposon\n",
            "ID: rnd-1_family-179#Unknown, Predição: DNA-transposon\n",
            "ID: rnd-1_family-8#Unknown, Predição: Retrotransposon\n",
            "ID: rnd-1_family-206#Unknown, Predição: DNA-transposon\n",
            "ID: rnd-1_family-211#Unknown, Predição: Retrotransposon\n",
            "ID: rnd-1_family-209#LINE/Penelope, Predição: Retrotransposon\n",
            "ID: rnd-1_family-215#Unknown, Predição: Retrotransposon\n",
            "ID: rnd-1_family-217#Unknown, Predição: DNA-transposon\n",
            "ID: rnd-1_family-218#LINE/Penelope, Predição: Retrotransposon\n",
            "ID: rnd-1_family-221#Unknown, Predição: DNA-transposon\n",
            "ID: rnd-1_family-222#Unknown, Predição: Retrotransposon\n",
            "ID: rnd-1_family-219#LINE/CR1, Predição: Retrotransposon\n",
            "ID: rnd-1_family-223#LINE/CR1, Predição: Retrotransposon\n",
            "ID: rnd-1_family-226#Unknown, Predição: DNA-transposon\n",
            "ID: rnd-1_family-228#Unknown, Predição: DNA-transposon\n",
            "ID: rnd-1_family-229#Unknown, Predição: DNA-transposon\n",
            "ID: rnd-1_family-230#Unknown, Predição: Retrotransposon\n",
            "ID: rnd-1_family-233#LINE/Penelope, Predição: Retrotransposon\n",
            "ID: rnd-1_family-240#Unknown, Predição: Retrotransposon\n",
            "ID: rnd-1_family-244#Unknown, Predição: Retrotransposon\n",
            "ID: rnd-1_family-246#LINE/Penelope, Predição: Retrotransposon\n",
            "ID: rnd-1_family-252#Unknown, Predição: DNA-transposon\n",
            "ID: rnd-1_family-253#Unknown, Predição: DNA-transposon\n",
            "ID: rnd-1_family-256#Unknown, Predição: Retrotransposon\n",
            "ID: rnd-1_family-260#Unknown, Predição: Retrotransposon\n",
            "ID: rnd-1_family-262#LINE/Penelope, Predição: Retrotransposon\n",
            "ID: rnd-1_family-264#LINE/Penelope, Predição: Retrotransposon\n",
            "ID: rnd-1_family-267#Unknown, Predição: Retrotransposon\n",
            "ID: rnd-1_family-268#Unknown, Predição: DNA-transposon\n",
            "ID: rnd-1_family-271#LINE/Penelope, Predição: Retrotransposon\n",
            "ID: rnd-1_family-273#Unknown, Predição: Retrotransposon\n",
            "ID: rnd-1_family-274#Unknown, Predição: Retrotransposon\n",
            "ID: rnd-1_family-275#Unknown, Predição: Retrotransposon\n",
            "ID: rnd-1_family-277#Unknown, Predição: Retrotransposon\n",
            "ID: rnd-1_family-278#Unknown, Predição: DNA-transposon\n",
            "ID: rnd-1_family-281#LINE/CR1, Predição: Retrotransposon\n",
            "ID: rnd-1_family-249#LINE/CR1, Predição: Retrotransposon\n",
            "ID: rnd-1_family-280#Unknown, Predição: DNA-transposon\n",
            "ID: rnd-1_family-282#Unknown, Predição: Retrotransposon\n",
            "ID: rnd-1_family-286#Unknown, Predição: DNA-transposon\n",
            "ID: rnd-1_family-287#LINE/Penelope, Predição: DNA-transposon\n",
            "ID: rnd-1_family-288#LTR/Gypsy, Predição: Retrotransposon\n",
            "ID: rnd-1_family-291#LINE/CR1, Predição: Retrotransposon\n",
            "ID: rnd-1_family-292#LTR/Gypsy, Predição: DNA-transposon\n",
            "ID: rnd-1_family-296#Unknown, Predição: Retrotransposon\n",
            "ID: rnd-1_family-297#LINE/Penelope, Predição: Retrotransposon\n",
            "ID: rnd-1_family-300#Unknown, Predição: Retrotransposon\n",
            "ID: rnd-1_family-302#Unknown, Predição: DNA-transposon\n",
            "ID: rnd-1_family-285#LINE/Penelope, Predição: Retrotransposon\n",
            "ID: rnd-1_family-303#Unknown, Predição: Retrotransposon\n",
            "ID: rnd-1_family-306#Unknown, Predição: Retrotransposon\n",
            "ID: rnd-1_family-307#Unknown, Predição: Retrotransposon\n",
            "ID: rnd-1_family-308#LINE/Penelope, Predição: Retrotransposon\n",
            "ID: rnd-1_family-309#LINE/Penelope, Predição: Retrotransposon\n",
            "ID: rnd-1_family-310#Unknown, Predição: DNA-transposon\n",
            "ID: rnd-1_family-311#Unknown, Predição: DNA-transposon\n",
            "ID: rnd-1_family-313#Unknown, Predição: Retrotransposon\n",
            "ID: rnd-1_family-314#Unknown, Predição: DNA-transposon\n",
            "ID: rnd-1_family-317#LINE/CR1, Predição: Retrotransposon\n",
            "ID: rnd-1_family-318#LINE/CR1, Predição: Retrotransposon\n",
            "ID: rnd-1_family-319#Unknown, Predição: DNA-transposon\n",
            "ID: rnd-1_family-324#Unknown, Predição: DNA-transposon\n",
            "ID: rnd-1_family-326#LINE/Penelope, Predição: Retrotransposon\n",
            "ID: rnd-1_family-316#LINE/Penelope, Predição: Retrotransposon\n",
            "ID: rnd-1_family-327#Unknown, Predição: DNA-transposon\n",
            "ID: rnd-1_family-331#Unknown, Predição: DNA-transposon\n",
            "ID: rnd-1_family-334#Unknown, Predição: DNA-transposon\n",
            "ID: rnd-1_family-335#Unknown, Predição: DNA-transposon\n",
            "ID: rnd-1_family-336#LTR/Gypsy, Predição: DNA-transposon\n",
            "ID: rnd-1_family-337#Unknown, Predição: DNA-transposon\n",
            "ID: rnd-1_family-338#LTR/Gypsy, Predição: Retrotransposon\n",
            "ID: rnd-1_family-339#Unknown, Predição: DNA-transposon\n",
            "ID: rnd-1_family-341#Unknown, Predição: DNA-transposon\n",
            "ID: rnd-1_family-346#Unknown, Predição: Retrotransposon\n",
            "ID: rnd-1_family-349#LINE/CR1, Predição: Retrotransposon\n",
            "ID: rnd-1_family-351#LINE/CR1, Predição: Retrotransposon\n",
            "ID: rnd-1_family-352#LTR/Gypsy, Predição: DNA-transposon\n",
            "ID: rnd-1_family-353#LTR/Gypsy, Predição: DNA-transposon\n",
            "ID: rnd-1_family-354#Unknown, Predição: Retrotransposon\n",
            "ID: rnd-1_family-355#LTR/Gypsy, Predição: Retrotransposon\n",
            "ID: rnd-1_family-356#Unknown, Predição: Retrotransposon\n",
            "ID: rnd-1_family-357#Unknown, Predição: Retrotransposon\n",
            "ID: rnd-1_family-358#Unknown, Predição: DNA-transposon\n",
            "ID: rnd-1_family-359#Unknown, Predição: DNA-transposon\n",
            "ID: rnd-2_family-549#Unknown, Predição: Retrotransposon\n",
            "ID: rnd-2_family-258#Unknown, Predição: DNA-transposon\n",
            "ID: rnd-2_family-143#LINE/RTE-BovB, Predição: Retrotransposon\n",
            "ID: rnd-3_family-13#LINE/RTE-BovB, Predição: Retrotransposon\n",
            "ID: rnd-3_family-774#tRNA, Predição: DNA-transposon\n",
            "ID: rnd-3_family-144#Unknown, Predição: Retrotransposon\n",
            "ID: rnd-3_family-92#Unknown, Predição: Retrotransposon\n",
            "ID: rnd-3_family-153#Unknown, Predição: Retrotransposon\n",
            "ID: rnd-3_family-409#Unknown, Predição: DNA-transposon\n",
            "ID: rnd-3_family-599#SINE/tRNA-Core-RTE, Predição: Retrotransposon\n",
            "ID: rnd-3_family-14#Unknown, Predição: DNA-transposon\n",
            "ID: rnd-3_family-328#Unknown, Predição: DNA-transposon\n",
            "ID: rnd-3_family-626#Unknown, Predição: DNA-transposon\n",
            "ID: rnd-3_family-265#LINE/RTE-BovB, Predição: Retrotransposon\n",
            "ID: rnd-3_family-102#Unknown, Predição: Retrotransposon\n",
            "ID: rnd-3_family-479#Unknown, Predição: Retrotransposon\n",
            "ID: rnd-3_family-1886#Unknown, Predição: DNA-transposon\n",
            "ID: rnd-3_family-2#Unknown, Predição: Retrotransposon\n",
            "ID: rnd-3_family-6#Unknown, Predição: Retrotransposon\n",
            "ID: rnd-3_family-334#Unknown, Predição: Retrotransposon\n",
            "ID: rnd-3_family-46#Unknown, Predição: Retrotransposon\n",
            "ID: rnd-3_family-601#SINE/tRNA-Core-RTE, Predição: Retrotransposon\n",
            "ID: rnd-3_family-640#Unknown, Predição: Retrotransposon\n",
            "ID: rnd-3_family-697#Unknown, Predição: Retrotransposon\n",
            "ID: rnd-3_family-126#LINE/CR1, Predição: Retrotransposon\n",
            "ID: rnd-3_family-1#Unknown, Predição: Retrotransposon\n",
            "ID: rnd-3_family-781#Unknown, Predição: Retrotransposon\n",
            "ID: rnd-3_family-593#Unknown, Predição: Retrotransposon\n",
            "ID: rnd-3_family-240#Unknown, Predição: Retrotransposon\n",
            "ID: rnd-4_family-429#Unknown, Predição: DNA-transposon\n",
            "ID: rnd-4_family-1228#Unknown, Predição: DNA-transposon\n",
            "ID: rnd-4_family-292#LINE/RTE-BovB, Predição: Retrotransposon\n",
            "ID: rnd-4_family-130#LINE/CR1, Predição: DNA-transposon\n",
            "ID: rnd-4_family-59#Unknown, Predição: DNA-transposon\n",
            "ID: rnd-4_family-263#LINE/Penelope, Predição: Retrotransposon\n"
          ]
        }
      ]
    },
    {
      "cell_type": "code",
      "source": [
        "# Salvar as previsões em um arquivo\n",
        "with open('predicoes.txt', 'w') as f:\n",
        "    for seq_id, prediction in results.items():\n",
        "        f.write(f\"{seq_id}\\t{prediction}\\n\")\n",
        "\n",
        "# Baixar via navegador o arquivo de resultados\n",
        "from google.colab import files\n",
        "files.download('predicoes.txt')\n"
      ],
      "metadata": {
        "colab": {
          "base_uri": "https://localhost:8080/",
          "height": 17
        },
        "id": "RtKvk9oqY7Vu",
        "outputId": "93b953e3-d3bd-4314-d6c5-63e01168a29b"
      },
      "execution_count": 18,
      "outputs": [
        {
          "output_type": "display_data",
          "data": {
            "text/plain": [
              "<IPython.core.display.Javascript object>"
            ],
            "application/javascript": [
              "\n",
              "    async function download(id, filename, size) {\n",
              "      if (!google.colab.kernel.accessAllowed) {\n",
              "        return;\n",
              "      }\n",
              "      const div = document.createElement('div');\n",
              "      const label = document.createElement('label');\n",
              "      label.textContent = `Downloading \"${filename}\": `;\n",
              "      div.appendChild(label);\n",
              "      const progress = document.createElement('progress');\n",
              "      progress.max = size;\n",
              "      div.appendChild(progress);\n",
              "      document.body.appendChild(div);\n",
              "\n",
              "      const buffers = [];\n",
              "      let downloaded = 0;\n",
              "\n",
              "      const channel = await google.colab.kernel.comms.open(id);\n",
              "      // Send a message to notify the kernel that we're ready.\n",
              "      channel.send({})\n",
              "\n",
              "      for await (const message of channel.messages) {\n",
              "        // Send a message to notify the kernel that we're ready.\n",
              "        channel.send({})\n",
              "        if (message.buffers) {\n",
              "          for (const buffer of message.buffers) {\n",
              "            buffers.push(buffer);\n",
              "            downloaded += buffer.byteLength;\n",
              "            progress.value = downloaded;\n",
              "          }\n",
              "        }\n",
              "      }\n",
              "      const blob = new Blob(buffers, {type: 'application/binary'});\n",
              "      const a = document.createElement('a');\n",
              "      a.href = window.URL.createObjectURL(blob);\n",
              "      a.download = filename;\n",
              "      div.appendChild(a);\n",
              "      a.click();\n",
              "      div.remove();\n",
              "    }\n",
              "  "
            ]
          },
          "metadata": {}
        },
        {
          "output_type": "display_data",
          "data": {
            "text/plain": [
              "<IPython.core.display.Javascript object>"
            ],
            "application/javascript": [
              "download(\"download_ae766dd5-54f7-4f23-9479-702af2981b22\", \"predicoes.txt\", 9509)"
            ]
          },
          "metadata": {}
        }
      ]
    },
    {
      "cell_type": "markdown",
      "source": [],
      "metadata": {
        "id": "7YDhg5CAXeBP"
      }
    },
    {
      "cell_type": "code",
      "source": [],
      "metadata": {
        "id": "IsP6ntESY-XY"
      },
      "execution_count": null,
      "outputs": []
    }
  ]
}